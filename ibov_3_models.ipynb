{
 "cells": [
  {
   "cell_type": "markdown",
   "id": "c02f77ef",
   "metadata": {},
   "source": [
    "# IBOV: preparação + 3 modelos (LogReg, MLP, RandomForest)\n",
    "Requisitos: pandas, numpy, scikit-learn"
   ]
  },
  {
   "cell_type": "code",
   "execution_count": 2,
   "id": "970247aa",
   "metadata": {},
   "outputs": [],
   "source": [
    "# === IBOV: preparação + 3 modelos (LogReg, MLP, RandomForest) ===\n",
    "# Requisitos: pandas, numpy, scikit-learn\n",
    "import pandas as pd\n",
    "import numpy as np\n",
    "\n",
    "from sklearn.linear_model import LogisticRegression\n",
    "from sklearn.ensemble import RandomForestClassifier\n",
    "from sklearn.neural_network import MLPClassifier\n",
    "from sklearn.preprocessing import StandardScaler\n",
    "from sklearn.pipeline import make_pipeline\n",
    "from sklearn.metrics import accuracy_score, confusion_matrix, classification_report"
   ]
  },
  {
   "cell_type": "markdown",
   "id": "16b493dd",
   "metadata": {},
   "source": [
    "## 1) Leitura do CSV e detecção robusta de colunas"
   ]
  },
  {
   "cell_type": "code",
   "execution_count": 3,
   "id": "c2bd5716",
   "metadata": {},
   "outputs": [],
   "source": [
    "csv_path = \"Dados Históricos - Ibovespa.csv\"  # ajuste se necessário\n",
    "df = pd.read_csv(csv_path)\n",
    "df.columns = [c.strip() for c in df.columns]  # tira espaços\n",
    "\n",
    "def parse_ptbr_number(s):\n",
    "    \"\"\"Converte '123.456,78' -> 123456.78 e trata K/M/B do Investing (em Volume).\"\"\"\n",
    "    if pd.isna(s): \n",
    "        return np.nan\n",
    "    if isinstance(s, (int, float)): \n",
    "        return float(s)\n",
    "    s = str(s).strip()\n",
    "    factor = 1.0\n",
    "    if len(s) > 0 and s[-1] in [\"K\",\"M\",\"B\"]:\n",
    "        suf = s[-1]; s = s[:-1]\n",
    "        factor = {\"K\":1e3, \"M\":1e6, \"B\":1e9}[suf]\n",
    "    s = s.replace(\".\", \"\").replace(\",\", \".\")\n",
    "    try:\n",
    "        return float(s) * factor\n",
    "    except:\n",
    "        return np.nan"
   ]
  },
  {
   "cell_type": "markdown",
   "id": "03ec06cd",
   "metadata": {},
   "source": [
    "tenta reconhecer nomes comuns em pt-BR/inglês p/ cada coluna"
   ]
  },
  {
   "cell_type": "code",
   "execution_count": 4,
   "id": "2868b548",
   "metadata": {},
   "outputs": [],
   "source": [
    "col_data = next((c for c in df.columns if \"data\" in c.lower() or \"date\" in c.lower()), None)"
   ]
  },
  {
   "cell_type": "markdown",
   "id": "78b5e1ce",
   "metadata": {},
   "source": [
    "fechamento: \"Último\", \"Fechamento\", \"Preço\", \"Close\""
   ]
  },
  {
   "cell_type": "code",
   "execution_count": 5,
   "id": "1639c92e",
   "metadata": {},
   "outputs": [],
   "source": [
    "fechamento_alias = [\"último\",\"ultimo\",\"fechamento\",\"preço\",\"preco\",\"close\"]\n",
    "col_close = next((c for c in df.columns if any(a in c.lower() for a in fechamento_alias)), None)\n",
    "col_open  = next((c for c in df.columns if \"abertura\" in c.lower() or \"open\" in c.lower()), None)\n",
    "col_high  = next((c for c in df.columns if \"máx\" in c.lower() or \"max\" in c.lower() or \"high\" in c.lower()), None)\n",
    "col_low   = next((c for c in df.columns if \"mín\" in c.lower() or \"min\" in c.lower() or \"low\" in c.lower()), None)\n",
    "col_vol   = next((c for c in df.columns if \"vol\" in c.lower()), None)"
   ]
  },
  {
   "cell_type": "code",
   "execution_count": 6,
   "id": "7940e273",
   "metadata": {},
   "outputs": [],
   "source": [
    "assert col_data is not None, f\"Não encontrei coluna de Data. Cabeçalhos: {list(df.columns)}\"\n",
    "assert col_close is not None, f\"Não encontrei coluna de Fechamento ('Último'/'Fechamento'/'Preço'/'Close'). Cabeçalhos: {list(df.columns)}\""
   ]
  },
  {
   "cell_type": "markdown",
   "id": "4003ea7b",
   "metadata": {},
   "source": [
    "conversões"
   ]
  },
  {
   "cell_type": "code",
   "execution_count": 7,
   "id": "90ba4d62",
   "metadata": {},
   "outputs": [],
   "source": [
    "df[\"Date\"]  = pd.to_datetime(df[col_data], dayfirst=True, errors=\"coerce\")\n",
    "df[\"Close\"] = df[col_close].apply(parse_ptbr_number)\n",
    "if col_open: df[\"Open\"] = df[col_open].apply(parse_ptbr_number)\n",
    "if col_high: df[\"High\"] = df[col_high].apply(parse_ptbr_number)\n",
    "if col_low:  df[\"Low\"]  = df[col_low].apply(parse_ptbr_number)\n",
    "if col_vol:  df[\"Volume\"] = df[col_vol].apply(parse_ptbr_number)\n",
    "\n",
    "df = df.sort_values(\"Date\").reset_index(drop=True)"
   ]
  },
  {
   "cell_type": "markdown",
   "id": "0e844d79",
   "metadata": {},
   "source": [
    "## 2) Target (classe) = 1 se o fechamento do dia seguinte > hoje; senão 0"
   ]
  },
  {
   "cell_type": "code",
   "execution_count": 8,
   "id": "855759ee",
   "metadata": {},
   "outputs": [],
   "source": [
    "df[\"Target\"] = (df[\"Close\"].shift(-1) > df[\"Close\"]).astype(int)"
   ]
  },
  {
   "cell_type": "markdown",
   "id": "78676d4f",
   "metadata": {},
   "source": [
    "## 3) Engenharia de features"
   ]
  },
  {
   "cell_type": "code",
   "execution_count": 9,
   "id": "42cca17a",
   "metadata": {},
   "outputs": [],
   "source": [
    "df[\"ret_1d\"]  = df[\"Close\"].pct_change(1)\n",
    "df[\"ret_5d\"]  = df[\"Close\"].pct_change(5)\n",
    "df[\"ret_10d\"] = df[\"Close\"].pct_change(10)\n",
    "\n",
    "for w in [5, 10, 20]:\n",
    "    df[f\"ma_{w}\"] = df[\"Close\"].rolling(w).mean()\n",
    "    df[f\"ma_ratio_{w}\"] = df[\"Close\"] / df[f\"ma_{w}\"]\n",
    "\n",
    "df[\"vola_5d\"]  = df[\"ret_1d\"].rolling(5).std()\n",
    "df[\"vola_10d\"] = df[\"ret_1d\"].rolling(10).std()\n",
    "\n",
    "def compute_rsi(series, window=14):\n",
    "    delta = series.diff()\n",
    "    up = np.where(delta > 0, delta, 0.0)\n",
    "    down = np.where(delta < 0, -delta, 0.0)\n",
    "    roll_up = pd.Series(up, index=series.index).rolling(window).mean()\n",
    "    roll_down = pd.Series(down, index=series.index).rolling(window).mean()\n",
    "    rs = roll_up / roll_down.replace(0, np.nan)\n",
    "    return 100.0 - (100.0 / (1.0 + rs))\n",
    "\n",
    "df[\"rsi_14\"] = compute_rsi(df[\"Close\"], 14)\n",
    "\n",
    "w = 20\n",
    "ma = df[\"Close\"].rolling(w).mean()\n",
    "std = df[\"Close\"].rolling(w).std()\n",
    "df[\"bb_width\"] = ((ma + 2*std) - (ma - 2*std)) / ma\n",
    "\n",
    "if \"Volume\" in df.columns:\n",
    "    df[\"vol_z\"] = (df[\"Volume\"] - df[\"Volume\"].rolling(20).mean()) / df[\"Volume\"].rolling(20).std()"
   ]
  },
  {
   "cell_type": "markdown",
   "id": "3c205fbe",
   "metadata": {},
   "source": [
    "remove NaN iniciais e a última linha (sem target futuro)"
   ]
  },
  {
   "cell_type": "code",
   "execution_count": 10,
   "id": "c81fd88c",
   "metadata": {},
   "outputs": [],
   "source": [
    "df_model = df.dropna().copy()\n",
    "df_model = df_model.iloc[:-1, :]"
   ]
  },
  {
   "cell_type": "markdown",
   "id": "54f0318d",
   "metadata": {},
   "source": [
    "## # 4) Split temporal (últimos 30 dias = teste)"
   ]
  },
  {
   "cell_type": "code",
   "execution_count": 11,
   "id": "30518937",
   "metadata": {},
   "outputs": [],
   "source": [
    "test_size = 30 if len(df_model) >= 100 else min(30, max(5, len(df_model)//5))\n",
    "train = df_model.iloc[:-test_size, :].copy()\n",
    "test  = df_model.iloc[-test_size:, :].copy()\n",
    "\n",
    "feature_cols = [\n",
    "    \"ret_1d\",\"ret_5d\",\"ret_10d\",\n",
    "    \"ma_ratio_5\",\"ma_ratio_10\",\"ma_ratio_20\",\n",
    "    \"vola_5d\",\"vola_10d\",\n",
    "    \"rsi_14\",\"bb_width\"\n",
    "]\n",
    "if \"vol_z\" in df_model.columns:\n",
    "    feature_cols.append(\"vol_z\")\n",
    "\n",
    "X_train = train[feature_cols].values\n",
    "y_train = train[\"Target\"].values\n",
    "X_test  = test[feature_cols].values\n",
    "y_test  = test[\"Target\"].values"
   ]
  },
  {
   "cell_type": "code",
   "execution_count": 12,
   "id": "c6a225a3",
   "metadata": {},
   "outputs": [],
   "source": [
    "def avalia(nome, modelo):\n",
    "    modelo.fit(X_train, y_train)\n",
    "    y_pred = modelo.predict(X_test)\n",
    "    acc = accuracy_score(y_test, y_pred)\n",
    "    cm  = confusion_matrix(y_test, y_pred)\n",
    "    cr  = classification_report(y_test, y_pred, digits=3, zero_division=0)\n",
    "    print(f\"\\n=== {nome} ===\")\n",
    "    print(f\"Acurácia (últimos {test_size} dias): {acc:.4f}\")\n",
    "    print(\"Matriz de confusão:\\n\", cm)\n",
    "    print(cr)\n",
    "    return acc"
   ]
  },
  {
   "cell_type": "markdown",
   "id": "e526b52e",
   "metadata": {},
   "source": [
    "## 5) Três modelos"
   ]
  },
  {
   "cell_type": "markdown",
   "id": "7d834a1e",
   "metadata": {},
   "source": [
    "(A) Regressão Logística"
   ]
  },
  {
   "cell_type": "code",
   "execution_count": 13,
   "id": "4c11ef8f",
   "metadata": {},
   "outputs": [
    {
     "name": "stdout",
     "output_type": "stream",
     "text": [
      "\n",
      "=== Regressão Logística ===\n",
      "Acurácia (últimos 30 dias): 0.5667\n",
      "Matriz de confusão:\n",
      " [[11  3]\n",
      " [10  6]]\n",
      "              precision    recall  f1-score   support\n",
      "\n",
      "           0      0.524     0.786     0.629        14\n",
      "           1      0.667     0.375     0.480        16\n",
      "\n",
      "    accuracy                          0.567        30\n",
      "   macro avg      0.595     0.580     0.554        30\n",
      "weighted avg      0.600     0.567     0.549        30\n",
      "\n"
     ]
    }
   ],
   "source": [
    "logreg = make_pipeline(\n",
    "    StandardScaler(),\n",
    "    LogisticRegression(max_iter=2000)\n",
    ")\n",
    "acc_logreg = avalia(\"Regressão Logística\", logreg)"
   ]
  },
  {
   "cell_type": "markdown",
   "id": "528e488c",
   "metadata": {},
   "source": [
    "(B) MLP (rede neural)"
   ]
  },
  {
   "cell_type": "code",
   "execution_count": 14,
   "id": "dc9074a2",
   "metadata": {},
   "outputs": [
    {
     "name": "stdout",
     "output_type": "stream",
     "text": [
      "\n",
      "=== MLP (Rede Neural) ===\n",
      "Acurácia (últimos 30 dias): 0.5333\n",
      "Matriz de confusão:\n",
      " [[8 6]\n",
      " [8 8]]\n",
      "              precision    recall  f1-score   support\n",
      "\n",
      "           0      0.500     0.571     0.533        14\n",
      "           1      0.571     0.500     0.533        16\n",
      "\n",
      "    accuracy                          0.533        30\n",
      "   macro avg      0.536     0.536     0.533        30\n",
      "weighted avg      0.538     0.533     0.533        30\n",
      "\n"
     ]
    }
   ],
   "source": [
    "mlp = make_pipeline(\n",
    "    StandardScaler(),\n",
    "    MLPClassifier(hidden_layer_sizes=(64, 64), activation=\"relu\",\n",
    "                  alpha=1e-3, max_iter=2000, random_state=42)\n",
    ")\n",
    "acc_mlp = avalia(\"MLP (Rede Neural)\", mlp)"
   ]
  },
  {
   "cell_type": "markdown",
   "id": "c9982ebe",
   "metadata": {},
   "source": [
    "(C) Random Forest"
   ]
  },
  {
   "cell_type": "code",
   "execution_count": 15,
   "id": "e06b6a92",
   "metadata": {},
   "outputs": [
    {
     "name": "stdout",
     "output_type": "stream",
     "text": [
      "\n",
      "=== Random Forest ===\n",
      "Acurácia (últimos 30 dias): 0.4000\n",
      "Matriz de confusão:\n",
      " [[ 8  6]\n",
      " [12  4]]\n",
      "              precision    recall  f1-score   support\n",
      "\n",
      "           0      0.400     0.571     0.471        14\n",
      "           1      0.400     0.250     0.308        16\n",
      "\n",
      "    accuracy                          0.400        30\n",
      "   macro avg      0.400     0.411     0.389        30\n",
      "weighted avg      0.400     0.400     0.384        30\n",
      "\n"
     ]
    }
   ],
   "source": [
    "rf = RandomForestClassifier(\n",
    "    n_estimators=600,\n",
    "    max_depth=None,\n",
    "    min_samples_leaf=2,\n",
    "    max_features=\"sqrt\",\n",
    "    random_state=42\n",
    ")\n",
    "acc_rf = avalia(\"Random Forest\", rf)"
   ]
  },
  {
   "cell_type": "markdown",
   "id": "99c42ad0",
   "metadata": {},
   "source": [
    "# 6) Comparativo final"
   ]
  },
  {
   "cell_type": "code",
   "execution_count": 16,
   "id": "cc2beeda",
   "metadata": {},
   "outputs": [
    {
     "name": "stdout",
     "output_type": "stream",
     "text": [
      "\n",
      ">> Melhor entre os 3: LogReg (acc=0.5667)  |  Meta 75% NÃO ATINGIDA\n"
     ]
    }
   ],
   "source": [
    "melhor = max(\n",
    "    [(\"LogReg\", acc_logreg), (\"MLP\", acc_mlp), (\"RF\", acc_rf)],\n",
    "    key=lambda x: x[1]\n",
    ")\n",
    "print(f\"\\n>> Melhor entre os 3: {melhor[0]} (acc={melhor[1]:.4f})  |  Meta 75% {'OK' if melhor[1] >= 0.75 else 'NÃO ATINGIDA'}\")"
   ]
  },
  {
   "cell_type": "markdown",
   "id": "6cc5c82d",
   "metadata": {},
   "source": [
    "# 7) Tabela de previsões"
   ]
  },
  {
   "cell_type": "code",
   "execution_count": 23,
   "id": "4525c5da",
   "metadata": {},
   "outputs": [
    {
     "name": "stdout",
     "output_type": "stream",
     "text": [
      "Modelo selecionado automaticamente pelo MAIOR ACC: LogReg (0.5667)\n"
     ]
    }
   ],
   "source": [
    "candidatos = []\n",
    "if 'rf' in globals() and 'acc_rf' in globals():         candidatos.append(('RF', acc_rf, rf))\n",
    "if 'logreg' in globals() and 'acc_logreg' in globals(): candidatos.append(('LogReg', acc_logreg, logreg))\n",
    "if 'mlp' in globals() and 'acc_mlp' in globals():       candidatos.append(('MLP', acc_mlp, mlp))\n",
    "\n",
    "if candidatos:\n",
    "    ganhador = max(candidatos, key=lambda x: x[1])\n",
    "    nome, acc, modelo = ganhador\n",
    "    print(f\"Modelo selecionado automaticamente pelo MAIOR ACC: {nome} ({acc:.4f})\")\n",
    "else:\n",
    "    # fallback: prioridade rf > logreg > mlp (Opção A)\n",
    "    if 'rf' in globals():       modelo = rf;      nome = 'RF'\n",
    "    elif 'logreg' in globals(): modelo = logreg;  nome = 'LogReg'\n",
    "    elif 'mlp' in globals():    modelo = mlp;     nome = 'MLP'\n",
    "    else:\n",
    "        raise RuntimeError(\"Nenhum modelo está em memória. Rode a célula de treino.\")\n",
    "    print(f\"Modelo selecionado por disponibilidade: {nome}\")\n"
   ]
  },
  {
   "cell_type": "markdown",
   "id": "1e4f8b35",
   "metadata": {},
   "source": [
    "Tabela de previsões dos últimos 30 dias"
   ]
  },
  {
   "cell_type": "code",
   "execution_count": 26,
   "id": "7c333d70",
   "metadata": {},
   "outputs": [
    {
     "data": {
      "text/html": [
       "<div>\n",
       "<style scoped>\n",
       "    .dataframe tbody tr th:only-of-type {\n",
       "        vertical-align: middle;\n",
       "    }\n",
       "\n",
       "    .dataframe tbody tr th {\n",
       "        vertical-align: top;\n",
       "    }\n",
       "\n",
       "    .dataframe thead th {\n",
       "        text-align: right;\n",
       "    }\n",
       "</style>\n",
       "<table border=\"1\" class=\"dataframe\">\n",
       "  <thead>\n",
       "    <tr style=\"text-align: right;\">\n",
       "      <th></th>\n",
       "      <th>Date</th>\n",
       "      <th>Close</th>\n",
       "      <th>Target</th>\n",
       "      <th>pred</th>\n",
       "      <th>real_symbol</th>\n",
       "      <th>pred_symbol</th>\n",
       "      <th>prob_up</th>\n",
       "    </tr>\n",
       "  </thead>\n",
       "  <tbody>\n",
       "    <tr>\n",
       "      <th>718</th>\n",
       "      <td>2025-08-25</td>\n",
       "      <td>138.025</td>\n",
       "      <td>0</td>\n",
       "      <td>0</td>\n",
       "      <td>↓</td>\n",
       "      <td>↓</td>\n",
       "      <td>0.464302</td>\n",
       "    </tr>\n",
       "    <tr>\n",
       "      <th>719</th>\n",
       "      <td>2025-08-26</td>\n",
       "      <td>137.771</td>\n",
       "      <td>1</td>\n",
       "      <td>0</td>\n",
       "      <td>↑</td>\n",
       "      <td>↓</td>\n",
       "      <td>0.456685</td>\n",
       "    </tr>\n",
       "    <tr>\n",
       "      <th>720</th>\n",
       "      <td>2025-08-27</td>\n",
       "      <td>139.206</td>\n",
       "      <td>1</td>\n",
       "      <td>0</td>\n",
       "      <td>↑</td>\n",
       "      <td>↓</td>\n",
       "      <td>0.475325</td>\n",
       "    </tr>\n",
       "    <tr>\n",
       "      <th>721</th>\n",
       "      <td>2025-08-28</td>\n",
       "      <td>141.049</td>\n",
       "      <td>1</td>\n",
       "      <td>0</td>\n",
       "      <td>↑</td>\n",
       "      <td>↓</td>\n",
       "      <td>0.494920</td>\n",
       "    </tr>\n",
       "    <tr>\n",
       "      <th>722</th>\n",
       "      <td>2025-08-29</td>\n",
       "      <td>141.422</td>\n",
       "      <td>0</td>\n",
       "      <td>0</td>\n",
       "      <td>↓</td>\n",
       "      <td>↓</td>\n",
       "      <td>0.495973</td>\n",
       "    </tr>\n",
       "    <tr>\n",
       "      <th>723</th>\n",
       "      <td>2025-09-01</td>\n",
       "      <td>141.283</td>\n",
       "      <td>0</td>\n",
       "      <td>0</td>\n",
       "      <td>↓</td>\n",
       "      <td>↓</td>\n",
       "      <td>0.489224</td>\n",
       "    </tr>\n",
       "    <tr>\n",
       "      <th>724</th>\n",
       "      <td>2025-09-02</td>\n",
       "      <td>140.335</td>\n",
       "      <td>0</td>\n",
       "      <td>1</td>\n",
       "      <td>↓</td>\n",
       "      <td>↑</td>\n",
       "      <td>0.526295</td>\n",
       "    </tr>\n",
       "    <tr>\n",
       "      <th>725</th>\n",
       "      <td>2025-09-03</td>\n",
       "      <td>139.864</td>\n",
       "      <td>1</td>\n",
       "      <td>1</td>\n",
       "      <td>↑</td>\n",
       "      <td>↑</td>\n",
       "      <td>0.528850</td>\n",
       "    </tr>\n",
       "    <tr>\n",
       "      <th>726</th>\n",
       "      <td>2025-09-04</td>\n",
       "      <td>140.993</td>\n",
       "      <td>1</td>\n",
       "      <td>1</td>\n",
       "      <td>↑</td>\n",
       "      <td>↑</td>\n",
       "      <td>0.532501</td>\n",
       "    </tr>\n",
       "    <tr>\n",
       "      <th>727</th>\n",
       "      <td>2025-09-05</td>\n",
       "      <td>142.640</td>\n",
       "      <td>0</td>\n",
       "      <td>0</td>\n",
       "      <td>↓</td>\n",
       "      <td>↓</td>\n",
       "      <td>0.481590</td>\n",
       "    </tr>\n",
       "    <tr>\n",
       "      <th>728</th>\n",
       "      <td>2025-09-08</td>\n",
       "      <td>141.792</td>\n",
       "      <td>0</td>\n",
       "      <td>1</td>\n",
       "      <td>↓</td>\n",
       "      <td>↑</td>\n",
       "      <td>0.502541</td>\n",
       "    </tr>\n",
       "    <tr>\n",
       "      <th>729</th>\n",
       "      <td>2025-09-09</td>\n",
       "      <td>141.618</td>\n",
       "      <td>1</td>\n",
       "      <td>1</td>\n",
       "      <td>↑</td>\n",
       "      <td>↑</td>\n",
       "      <td>0.518877</td>\n",
       "    </tr>\n",
       "    <tr>\n",
       "      <th>730</th>\n",
       "      <td>2025-09-10</td>\n",
       "      <td>142.349</td>\n",
       "      <td>1</td>\n",
       "      <td>1</td>\n",
       "      <td>↑</td>\n",
       "      <td>↑</td>\n",
       "      <td>0.514308</td>\n",
       "    </tr>\n",
       "    <tr>\n",
       "      <th>731</th>\n",
       "      <td>2025-09-11</td>\n",
       "      <td>143.151</td>\n",
       "      <td>0</td>\n",
       "      <td>0</td>\n",
       "      <td>↓</td>\n",
       "      <td>↓</td>\n",
       "      <td>0.483867</td>\n",
       "    </tr>\n",
       "    <tr>\n",
       "      <th>732</th>\n",
       "      <td>2025-09-12</td>\n",
       "      <td>142.272</td>\n",
       "      <td>1</td>\n",
       "      <td>0</td>\n",
       "      <td>↑</td>\n",
       "      <td>↓</td>\n",
       "      <td>0.475938</td>\n",
       "    </tr>\n",
       "    <tr>\n",
       "      <th>733</th>\n",
       "      <td>2025-09-15</td>\n",
       "      <td>143.547</td>\n",
       "      <td>1</td>\n",
       "      <td>0</td>\n",
       "      <td>↑</td>\n",
       "      <td>↓</td>\n",
       "      <td>0.495928</td>\n",
       "    </tr>\n",
       "    <tr>\n",
       "      <th>734</th>\n",
       "      <td>2025-09-16</td>\n",
       "      <td>144.062</td>\n",
       "      <td>1</td>\n",
       "      <td>1</td>\n",
       "      <td>↑</td>\n",
       "      <td>↑</td>\n",
       "      <td>0.500526</td>\n",
       "    </tr>\n",
       "    <tr>\n",
       "      <th>735</th>\n",
       "      <td>2025-09-17</td>\n",
       "      <td>145.594</td>\n",
       "      <td>0</td>\n",
       "      <td>1</td>\n",
       "      <td>↓</td>\n",
       "      <td>↑</td>\n",
       "      <td>0.500120</td>\n",
       "    </tr>\n",
       "    <tr>\n",
       "      <th>736</th>\n",
       "      <td>2025-09-18</td>\n",
       "      <td>145.499</td>\n",
       "      <td>1</td>\n",
       "      <td>0</td>\n",
       "      <td>↑</td>\n",
       "      <td>↓</td>\n",
       "      <td>0.480344</td>\n",
       "    </tr>\n",
       "    <tr>\n",
       "      <th>737</th>\n",
       "      <td>2025-09-19</td>\n",
       "      <td>145.865</td>\n",
       "      <td>0</td>\n",
       "      <td>0</td>\n",
       "      <td>↓</td>\n",
       "      <td>↓</td>\n",
       "      <td>0.479479</td>\n",
       "    </tr>\n",
       "    <tr>\n",
       "      <th>738</th>\n",
       "      <td>2025-09-22</td>\n",
       "      <td>145.109</td>\n",
       "      <td>1</td>\n",
       "      <td>0</td>\n",
       "      <td>↑</td>\n",
       "      <td>↓</td>\n",
       "      <td>0.492278</td>\n",
       "    </tr>\n",
       "    <tr>\n",
       "      <th>739</th>\n",
       "      <td>2025-09-23</td>\n",
       "      <td>146.425</td>\n",
       "      <td>1</td>\n",
       "      <td>1</td>\n",
       "      <td>↑</td>\n",
       "      <td>↑</td>\n",
       "      <td>0.506071</td>\n",
       "    </tr>\n",
       "    <tr>\n",
       "      <th>740</th>\n",
       "      <td>2025-09-24</td>\n",
       "      <td>146.492</td>\n",
       "      <td>0</td>\n",
       "      <td>0</td>\n",
       "      <td>↓</td>\n",
       "      <td>↓</td>\n",
       "      <td>0.493006</td>\n",
       "    </tr>\n",
       "    <tr>\n",
       "      <th>741</th>\n",
       "      <td>2025-09-25</td>\n",
       "      <td>145.306</td>\n",
       "      <td>1</td>\n",
       "      <td>0</td>\n",
       "      <td>↑</td>\n",
       "      <td>↓</td>\n",
       "      <td>0.474816</td>\n",
       "    </tr>\n",
       "    <tr>\n",
       "      <th>742</th>\n",
       "      <td>2025-09-26</td>\n",
       "      <td>145.447</td>\n",
       "      <td>1</td>\n",
       "      <td>0</td>\n",
       "      <td>↑</td>\n",
       "      <td>↓</td>\n",
       "      <td>0.499592</td>\n",
       "    </tr>\n",
       "    <tr>\n",
       "      <th>743</th>\n",
       "      <td>2025-09-29</td>\n",
       "      <td>146.337</td>\n",
       "      <td>0</td>\n",
       "      <td>0</td>\n",
       "      <td>↓</td>\n",
       "      <td>↓</td>\n",
       "      <td>0.494667</td>\n",
       "    </tr>\n",
       "    <tr>\n",
       "      <th>744</th>\n",
       "      <td>2025-09-30</td>\n",
       "      <td>146.237</td>\n",
       "      <td>0</td>\n",
       "      <td>0</td>\n",
       "      <td>↓</td>\n",
       "      <td>↓</td>\n",
       "      <td>0.481014</td>\n",
       "    </tr>\n",
       "    <tr>\n",
       "      <th>745</th>\n",
       "      <td>2025-10-01</td>\n",
       "      <td>145.517</td>\n",
       "      <td>0</td>\n",
       "      <td>0</td>\n",
       "      <td>↓</td>\n",
       "      <td>↓</td>\n",
       "      <td>0.455714</td>\n",
       "    </tr>\n",
       "    <tr>\n",
       "      <th>746</th>\n",
       "      <td>2025-10-02</td>\n",
       "      <td>143.950</td>\n",
       "      <td>1</td>\n",
       "      <td>0</td>\n",
       "      <td>↑</td>\n",
       "      <td>↓</td>\n",
       "      <td>0.466302</td>\n",
       "    </tr>\n",
       "    <tr>\n",
       "      <th>747</th>\n",
       "      <td>2025-10-03</td>\n",
       "      <td>144.201</td>\n",
       "      <td>0</td>\n",
       "      <td>0</td>\n",
       "      <td>↓</td>\n",
       "      <td>↓</td>\n",
       "      <td>0.461945</td>\n",
       "    </tr>\n",
       "  </tbody>\n",
       "</table>\n",
       "</div>"
      ],
      "text/plain": [
       "          Date    Close  Target  pred real_symbol pred_symbol   prob_up\n",
       "718 2025-08-25  138.025       0     0           ↓           ↓  0.464302\n",
       "719 2025-08-26  137.771       1     0           ↑           ↓  0.456685\n",
       "720 2025-08-27  139.206       1     0           ↑           ↓  0.475325\n",
       "721 2025-08-28  141.049       1     0           ↑           ↓  0.494920\n",
       "722 2025-08-29  141.422       0     0           ↓           ↓  0.495973\n",
       "723 2025-09-01  141.283       0     0           ↓           ↓  0.489224\n",
       "724 2025-09-02  140.335       0     1           ↓           ↑  0.526295\n",
       "725 2025-09-03  139.864       1     1           ↑           ↑  0.528850\n",
       "726 2025-09-04  140.993       1     1           ↑           ↑  0.532501\n",
       "727 2025-09-05  142.640       0     0           ↓           ↓  0.481590\n",
       "728 2025-09-08  141.792       0     1           ↓           ↑  0.502541\n",
       "729 2025-09-09  141.618       1     1           ↑           ↑  0.518877\n",
       "730 2025-09-10  142.349       1     1           ↑           ↑  0.514308\n",
       "731 2025-09-11  143.151       0     0           ↓           ↓  0.483867\n",
       "732 2025-09-12  142.272       1     0           ↑           ↓  0.475938\n",
       "733 2025-09-15  143.547       1     0           ↑           ↓  0.495928\n",
       "734 2025-09-16  144.062       1     1           ↑           ↑  0.500526\n",
       "735 2025-09-17  145.594       0     1           ↓           ↑  0.500120\n",
       "736 2025-09-18  145.499       1     0           ↑           ↓  0.480344\n",
       "737 2025-09-19  145.865       0     0           ↓           ↓  0.479479\n",
       "738 2025-09-22  145.109       1     0           ↑           ↓  0.492278\n",
       "739 2025-09-23  146.425       1     1           ↑           ↑  0.506071\n",
       "740 2025-09-24  146.492       0     0           ↓           ↓  0.493006\n",
       "741 2025-09-25  145.306       1     0           ↑           ↓  0.474816\n",
       "742 2025-09-26  145.447       1     0           ↑           ↓  0.499592\n",
       "743 2025-09-29  146.337       0     0           ↓           ↓  0.494667\n",
       "744 2025-09-30  146.237       0     0           ↓           ↓  0.481014\n",
       "745 2025-10-01  145.517       0     0           ↓           ↓  0.455714\n",
       "746 2025-10-02  143.950       1     0           ↑           ↓  0.466302\n",
       "747 2025-10-03  144.201       0     0           ↓           ↓  0.461945"
      ]
     },
     "execution_count": 26,
     "metadata": {},
     "output_type": "execute_result"
    }
   ],
   "source": [
    "# --- Tabela do TESTE (30 dias) ---\n",
    "test_pred  = modelo.predict(X_test)\n",
    "proba_test = modelo.predict_proba(X_test)[:,1] if hasattr(modelo,'predict_proba') else None\n",
    "\n",
    "tabela_teste = test[['Date','Close','Target']].copy()\n",
    "tabela_teste['pred'] = test_pred\n",
    "tabela_teste['real_symbol'] = tabela_teste['Target'].map({1:'↑',0:'↓'})\n",
    "tabela_teste['pred_symbol'] = tabela_teste['pred'].map({1:'↑',0:'↓'})\n",
    "if proba_test is not None:\n",
    "    tabela_teste['prob_up'] = proba_test\n",
    "\n",
    "tabela_teste.tail(30)  # exibe os 30 dias de teste\n"
   ]
  },
  {
   "cell_type": "markdown",
   "id": "a5ddcff7",
   "metadata": {},
   "source": [
    "Previsão do próximo dia (Target futuro + probabilidade)"
   ]
  },
  {
   "cell_type": "code",
   "execution_count": 27,
   "id": "0598344c",
   "metadata": {},
   "outputs": [
    {
     "name": "stdout",
     "output_type": "stream",
     "text": [
      "Previsão para o DIA SEGUINTE a 2025-10-06: Queda/Estabilidade (↓)\n",
      "Probabilidade de alta: 0.462\n"
     ]
    }
   ],
   "source": [
    "# --- Previsão para o PRÓXIMO DIA (D+1) ---\n",
    "df_feat_full = df.dropna().copy()  # última linha com todas as features\n",
    "x_future = df_feat_full.iloc[-1][feature_cols].values.reshape(1, -1)\n",
    "\n",
    "y_pred = modelo.predict(x_future)[0]\n",
    "proba  = modelo.predict_proba(x_future)[0, 1] if hasattr(modelo, \"predict_proba\") else None\n",
    "data_ref = pd.to_datetime(df_feat_full.iloc[-1]['Date']).date()\n",
    "\n",
    "print(f\"Previsão para o DIA SEGUINTE a {data_ref}: {'Alta (↑)' if y_pred==1 else 'Queda/Estabilidade (↓)'}\")\n",
    "if proba is not None:\n",
    "    print(f\"Probabilidade de alta: {proba:.3f}\")"
   ]
  }
 ],
 "metadata": {
  "kernelspec": {
   "display_name": "Python 3",
   "language": "python",
   "name": "python3"
  },
  "language_info": {
   "codemirror_mode": {
    "name": "ipython",
    "version": 3
   },
   "file_extension": ".py",
   "mimetype": "text/x-python",
   "name": "python",
   "nbconvert_exporter": "python",
   "pygments_lexer": "ipython3",
   "version": "3.13.5"
  }
 },
 "nbformat": 4,
 "nbformat_minor": 5
}
