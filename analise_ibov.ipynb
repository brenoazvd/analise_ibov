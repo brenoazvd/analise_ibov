{
 "cells": [
  {
   "cell_type": "code",
   "execution_count": 16,
   "id": "970247aa",
   "metadata": {},
   "outputs": [
    {
     "name": "stderr",
     "output_type": "stream",
     "text": [
      "C:\\Users\\00157NLUC-BrenoR\\AppData\\Local\\Temp\\ipykernel_22104\\4229621537.py:5: FutureWarning: YF.download() has changed argument auto_adjust default to True\n",
      "  df_ibov = yf.download(\"^BVSP\", start=\"2000-01-01\")\n",
      "[*********************100%***********************]  1 of 1 completed"
     ]
    },
    {
     "name": "stdout",
     "output_type": "stream",
     "text": [
      "Price         Close     High      Low     Open  Volume Currency\n",
      "Date                                                           \n",
      "2000-01-03  16930.0  17408.0  16719.0  17098.0       0      BRL\n",
      "2000-01-04  15851.0  16908.0  15851.0  16908.0       0      BRL\n",
      "2000-01-05  16245.0  16302.0  15350.0  15871.0       0      BRL\n",
      "2000-01-06  16107.0  16499.0  15977.0  16237.0       0      BRL\n",
      "2000-01-07  16309.0  16449.0  16125.0  16125.0       0      BRL\n"
     ]
    },
    {
     "name": "stderr",
     "output_type": "stream",
     "text": [
      "\n"
     ]
    }
   ],
   "source": [
    "import yfinance as yf\n",
    "import pandas as pd\n",
    "\n",
    "# Baixa o histórico do Ibovespa\n",
    "df_ibov = yf.download(\"^BVSP\", start=\"2000-01-01\")\n",
    "\n",
    "df_ibov.to_csv(\"ibovespa_historico.csv\", sep=\";\", decimal=\",\")\n",
    "\n",
    "# Remove o segundo nível de índice (^BVSP)\n",
    "df_ibov.columns = df_ibov.columns.droplevel(1)\n",
    "\n",
    "# Renomeia as colunas no padrão do Investing.com\n",
    "df_ibov = df_ibov.rename(columns={\n",
    "    \"Open\": \"Open\",\n",
    "    \"High\": \"High\",\n",
    "    \"Low\": \"Low\",\n",
    "    \"Close\": \"Close\",\n",
    "    \"Adj Close\": \"Adj Close\",\n",
    "    \"Volume\": \"Volume\"\n",
    "})\n",
    "\n",
    "# Adiciona a coluna de moeda\n",
    "df_ibov[\"Currency\"] = \"BRL\"\n",
    "\n",
    "# Mostra as 5 primeiras linhas\n",
    "print(df_ibov.head())\n"
   ]
  },
  {
   "cell_type": "code",
   "execution_count": 17,
   "id": "c2bd5716",
   "metadata": {},
   "outputs": [
    {
     "name": "stdout",
     "output_type": "stream",
     "text": [
      "Price         Close     High      Low     Open  Volume Currency\n",
      "Date                                                           \n",
      "2000-01-03  16930.0  17408.0  16719.0  17098.0       0      BRL\n",
      "2000-01-04  15851.0  16908.0  15851.0  16908.0       0      BRL\n",
      "2000-01-05  16245.0  16302.0  15350.0  15871.0       0      BRL\n",
      "2000-01-06  16107.0  16499.0  15977.0  16237.0       0      BRL\n",
      "2000-01-07  16309.0  16449.0  16125.0  16125.0       0      BRL\n"
     ]
    }
   ],
   "source": [
    "print(df_ibov.head())"
   ]
  },
  {
   "cell_type": "code",
   "execution_count": null,
   "id": "1639c92e",
   "metadata": {},
   "outputs": [],
   "source": []
  }
 ],
 "metadata": {
  "kernelspec": {
   "display_name": "Python 3",
   "language": "python",
   "name": "python3"
  },
  "language_info": {
   "codemirror_mode": {
    "name": "ipython",
    "version": 3
   },
   "file_extension": ".py",
   "mimetype": "text/x-python",
   "name": "python",
   "nbconvert_exporter": "python",
   "pygments_lexer": "ipython3",
   "version": "3.13.5"
  }
 },
 "nbformat": 4,
 "nbformat_minor": 5
}
